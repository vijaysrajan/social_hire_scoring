{
 "cells": [
  {
   "cell_type": "code",
   "execution_count": 54,
   "id": "d044af62-cf8b-4a7f-92d3-f577c5e1e2ad",
   "metadata": {
    "tags": []
   },
   "outputs": [],
   "source": [
    "#  min_max_normalization_of_dict is a function that normalizes the values\n",
    "#  in a dict parameter dict_jd_feature_weights and returns a new dict\n",
    "#  that has normalized values\n",
    "#  It is assumed that the values in dict_jd_feature_weights will need \n",
    "#  to be standardized using min-max normalization as described in\n",
    "#  https://g.co/bard/share/b244b5fe099b\n",
    "#  The beauty of min-max mormalization is that it is idempotent \n",
    "\n",
    "def min_max_normalization_of_dict(dict_jd_feature_weights):\n",
    "    normalized_dict_jd_feature_weights = {}\n",
    "\n",
    "    #find min and max needed for normalization\n",
    "    min_val = float('inf')\n",
    "    max_val = float('-inf')\n",
    "    sum_total = 0\n",
    "    for key in dict_jd_feature_weights:\n",
    "        if (dict_jd_feature_weights[key] > max_val):\n",
    "            max_val = dict_jd_feature_weights[key]\n",
    "        if (dict_jd_feature_weights[key] < min_val):\n",
    "            min_val = dict_jd_feature_weights[key]\n",
    "        sum_total += dict_jd_feature_weights[key]\n",
    "    \n",
    "        #populate normalized weights\n",
    "    for key in dict_jd_feature_weights:\n",
    "        normalized_dict_jd_feature_weights[key] = \\\n",
    "            dict_jd_feature_weights[key] / sum_total\n",
    "            \n",
    "    return normalized_dict_jd_feature_weights"
   ]
  },
  {
   "cell_type": "code",
   "execution_count": 62,
   "id": "3c6937af-d176-4532-a20d-ce8db186898d",
   "metadata": {
    "tags": []
   },
   "outputs": [],
   "source": [
    "#scoring_comparison is a function that takes two parameters\n",
    "# 1. dict_jd_feature_weights which is a dictionary containing \n",
    "#    keys as desired in the job description and corresponding\n",
    "#    values that would be weights\n",
    "#    example\n",
    "#      {   #key  :  #value\n",
    "#          java  :  8\n",
    "#          git   :  7\n",
    "#          agile :  4\n",
    "#          springboot : 9\n",
    "#          sql   :  5\n",
    "#          .net :  2\n",
    "#          c#   :  3\n",
    "#          total_experience_fresher : 0 \n",
    "#          total_experience_2_to_5_yrs :  0\n",
    "#          total_experience_5_to_8_yrs :  8\n",
    "#      }\n",
    "# 2. set_cv_features which takes in a set of features from the resume\n",
    "#    example\n",
    "#     {\n",
    "#          java\n",
    "#          git  \n",
    "#          agile \n",
    "#          springboot \n",
    "#          sql  \n",
    "#          .net \n",
    "#     }\n",
    "#  The function returns a score between 1 through 5\n",
    "\n",
    "def scoring_comparison(dict_jd_feature_weights, set_jd_mandatory_features, set_cv_features):\n",
    "    return_score = 0\n",
    "    multiplier = 5\n",
    "    \n",
    "    #new dict for normalized dict_jd_feature_weights\n",
    "    normalized_dict_jd_feature_weights = \\\n",
    "       min_max_normalization_of_dict(dict_jd_feature_weights)\n",
    "    \n",
    "    cv_satisfies_mandatory_features = False\n",
    "    features_matched = set_jd_mandatory_features.intersection(set_cv_features)\n",
    "    if (len(features_matched) == len(set_jd_mandatory_features)):\n",
    "        for cv_feature in set_cv_features:\n",
    "            if (cv_feature in normalized_dict_jd_feature_weights):\n",
    "                return_score += normalized_dict_jd_feature_weights[cv_feature]\n",
    "    return return_score * multiplier\n",
    "    "
   ]
  },
  {
   "cell_type": "code",
   "execution_count": 83,
   "id": "624ce5a6-2638-40b0-afca-a6b7f9b91af8",
   "metadata": {
    "tags": []
   },
   "outputs": [
    {
     "name": "stderr",
     "output_type": "stream",
     "text": [
      "....\n",
      "----------------------------------------------------------------------\n",
      "Ran 4 tests in 0.004s\n",
      "\n",
      "OK\n"
     ]
    }
   ],
   "source": [
    "import unittest\n",
    "\n",
    "class MyTest(unittest.TestCase):\n",
    "    def test_all_match_gives_full_score(self):\n",
    "        dict_jd_feature_weights = {'java':10, 'git':7, 'agile':4, 'springboot':9, 'sql':5,'.net':2, 'c#':3, \\\n",
    "                                    'total_experience_5_to_8_yrs' :  8}\n",
    "        set_jd_mandatory_features = {'java', 'sql'}\n",
    "        set_cv_features = {'java', 'git', 'agile', 'springboot', 'sql', 'c#', '.net', \\\n",
    "                                    'total_experience_5_to_8_yrs'}\n",
    "        score = scoring_comparison(dict_jd_feature_weights, set_jd_mandatory_features, set_cv_features)\n",
    "        self.assertEqual(score, 5)\n",
    "    \n",
    "    def test_doesnt_match_mandatory_requirements_score(self):\n",
    "        dict_jd_feature_weights = {'java':10, 'git':7, 'agile':4, 'springboot':9, 'sql':5,'.net':2, 'c#':3, \\\n",
    "                                    'total_experience_5_to_8_yrs' :  8}\n",
    "        set_jd_mandatory_features = {'java', 'sql'}\n",
    "        set_cv_features = {'java', 'git', 'agile', 'springboot', 'c#', '.net', \\\n",
    "                                    'total_experience_5_to_8_yrs'}\n",
    "        score = scoring_comparison(dict_jd_feature_weights, set_jd_mandatory_features, set_cv_features)\n",
    "        self.assertEqual(score, 0)\n",
    "        \n",
    "    def test_partial_match_score(self):\n",
    "        dict_jd_feature_weights = {'java':10, 'git':8, 'agile':1, 'springboot':10, 'sql':5,'.net':1, 'c#':1, \\\n",
    "                                    'total_experience_5_to_8_yrs' :  4}\n",
    "        set_jd_mandatory_features = {'java', 'sql'}\n",
    "        set_cv_features = {'java', 'git', 'agile', 'c#', 'sql'}\n",
    "        score = scoring_comparison(dict_jd_feature_weights, set_jd_mandatory_features, set_cv_features)\n",
    "        self.assertEqual(score, 3.125)\n",
    "        \n",
    "    def test_only_mandatory_requirements_score(self):\n",
    "        dict_jd_feature_weights = {'java':10, 'git':7, 'agile':4, 'springboot':9, 'sql':10,'.net':2, 'c#':3, \\\n",
    "                                    'total_experience_5_to_8_yrs' :  8}\n",
    "        set_jd_mandatory_features = {'java', 'sql'}\n",
    "        set_cv_features = {'java', 'sql', 'springboot'}\n",
    "        score = scoring_comparison(dict_jd_feature_weights, set_jd_mandatory_features, set_cv_features)\n",
    "        self.assertEqual(score, 2.735849056603774)\n",
    "        \n",
    "if __name__ == \"__main__\":\n",
    "    unittest.main(argv=['first-arg-is-ignored'], exit=False)\n",
    "    # t = MyTest()\n",
    "    # t.ut_all_match_gives_full_score()"
   ]
  },
  {
   "cell_type": "code",
   "execution_count": null,
   "id": "a55bb566-b361-4c2f-9c66-d2bd0adb6df2",
   "metadata": {},
   "outputs": [],
   "source": []
  }
 ],
 "metadata": {
  "kernelspec": {
   "display_name": "Python 3 (ipykernel)",
   "language": "python",
   "name": "python3"
  },
  "language_info": {
   "codemirror_mode": {
    "name": "ipython",
    "version": 3
   },
   "file_extension": ".py",
   "mimetype": "text/x-python",
   "name": "python",
   "nbconvert_exporter": "python",
   "pygments_lexer": "ipython3",
   "version": "3.9.6"
  }
 },
 "nbformat": 4,
 "nbformat_minor": 5
}
